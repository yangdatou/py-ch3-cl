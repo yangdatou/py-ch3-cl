{
 "cells": [
  {
   "cell_type": "code",
   "execution_count": 3,
   "id": "fcfbbf29-22d0-4403-827f-7ea7a75d730d",
   "metadata": {},
   "outputs": [],
   "source": [
    "natm = 16\n",
    "log_file = open(\"../data/irc.log\", \"r\")\n",
    "\n",
    "coord1 = []\n",
    "coord2 = []\n",
    "\n",
    "for l in log_file.readlines():\n",
    "    dir_name = l.split()[0][:-4]\n",
    "    coord1.append(float(l.split()[1]))\n",
    "    coord1.append(float(l.split()[1]))\n"
   ]
  },
  {
   "cell_type": "code",
   "execution_count": null,
   "id": "914ea7d3-ad41-4a6c-ae8a-9c7849e1a6f1",
   "metadata": {},
   "outputs": [],
   "source": []
  }
 ],
 "metadata": {
  "kernelspec": {
   "display_name": "Python 3",
   "language": "python",
   "name": "python3"
  },
  "language_info": {
   "codemirror_mode": {
    "name": "ipython",
    "version": 3
   },
   "file_extension": ".py",
   "mimetype": "text/x-python",
   "name": "python",
   "nbconvert_exporter": "python",
   "pygments_lexer": "ipython3",
   "version": "3.8.8"
  },
  "vscode": {
   "interpreter": {
    "hash": "cd6d3c4e16ae333676ac5ff0bb552f825d1015cadc6d12817bd9921e3f430be2"
   }
  }
 },
 "nbformat": 4,
 "nbformat_minor": 5
}
