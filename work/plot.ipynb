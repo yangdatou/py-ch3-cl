{
 "cells": [
  {
   "cell_type": "code",
   "execution_count": 3,
   "id": "fcfbbf29-22d0-4403-827f-7ea7a75d730d",
   "metadata": {},
   "outputs": [],
   "source": [
    "natm = 16\n",
    "log_file = open(\"../data/irc.log\", \"r\")\n",
    "\n",
    "coord1 = []\n",
    "coord2 = []\n",
    "\n",
    "rks_ene = []\n",
    "tda_ene = []\n",
    "\n",
    "for l in log_file.readlines():\n",
    "    dir_name = l.split()[0][:-4]\n",
    "    coord1.append(float(l.split()[1]))\n",
    "    coord2.append(float(l.split()[2]))\n",
    "    \n",
    "    with open(\"./\" + dir_name + \"/out.log\", \"r\") as f:\n",
    "        rks_ene.append(float(f.readlines()[0].split()[2]))"
   ]
  },
  {
   "cell_type": "code",
   "execution_count": 5,
   "id": "156e8ad2-60bc-47f9-bc08-3e3a479ead04",
   "metadata": {},
   "outputs": [],
   "source": [
    "import matplotlib as mpl\n",
    "from matplotlib import pyplot as plt\n",
    "\n",
    "plt.rcParams.update({\n",
    "    \"text.usetex\": True,\n",
    "    \"font.family\": \"serif\",\n",
    "})\n",
    "\n",
    "params = {\n",
    "        \"font.size\":       20,\n",
    "        \"axes.titlesize\":  16,\n",
    "        \"axes.labelsize\":  24,\n",
    "        \"legend.fontsize\": 16,\n",
    "        \"xtick.labelsize\": 16,\n",
    "        \"ytick.labelsize\": 16,\n",
    "        \"figure.subplot.wspace\":0.0,\n",
    "        \"figure.subplot.hspace\":0.0,\n",
    "        \"axes.spines.right\":True,\n",
    "        \"axes.spines.top\":True,\n",
    "        \"xtick.direction\":'in',\n",
    "        \"ytick.direction\":'in'\n",
    "}\n",
    "\n",
    "mpl.rcParams.update(params)"
   ]
  },
  {
   "cell_type": "code",
   "execution_count": 8,
   "id": "c3b67ea2-5c33-473d-8b36-b365728b08e8",
   "metadata": {},
   "outputs": [
    {
     "data": {
      "text/plain": [
       "[<matplotlib.lines.Line2D at 0x7fd649470fd0>]"
      ]
     },
     "execution_count": 8,
     "metadata": {},
     "output_type": "execute_result"
    },
    {
     "data": {
      "image/png": "[encoded data removed]",
      "text/plain": [
       "<Figure size 432x288 with 1 Axes>"
      ]
     },
     "metadata": {
      "needs_background": "light"
     },
     "output_type": "display_data"
    }
   ],
   "source": [
    "fig, ax = plt.subplots()\n",
    "ax.plot(rks_ene)"
   ]
  },
  {
   "cell_type": "code",
   "execution_count": null,
   "id": "d86d6e65-281d-4bfa-9da1-58b6a04f8168",
   "metadata": {},
   "outputs": [],
   "source": []
  }
 ],
 "metadata": {
  "kernelspec": {
   "display_name": "Python 3",
   "language": "python",
   "name": "python3"
  },
  "language_info": {
   "codemirror_mode": {
    "name": "ipython",
    "version": 3
   },
   "file_extension": ".py",
   "mimetype": "text/x-python",
   "name": "python",
   "nbconvert_exporter": "python",
   "pygments_lexer": "ipython3",
   "version": "3.8.8"
  },
  "vscode": {
   "interpreter": {
    "hash": "cd6d3c4e16ae333676ac5ff0bb552f825d1015cadc6d12817bd9921e3f430be2"
   }
  }
 },
 "nbformat": 4,
 "nbformat_minor": 5
}
