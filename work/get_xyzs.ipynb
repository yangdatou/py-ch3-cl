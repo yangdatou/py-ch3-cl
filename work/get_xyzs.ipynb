{
 "cells": [
  {
   "cell_type": "code",
   "execution_count": 26,
   "id": "fcfbbf29-22d0-4403-827f-7ea7a75d730d",
   "metadata": {},
   "outputs": [],
   "source": [
    "natm = 16\n",
    "irc_file = open(\"../data/qchem/py-ch3-cl-scan.out\", \"r\")\n",
    "log_file = open(\"../data/scan.log\", \"w\")\n",
    "trj_file = open(\"../data/traj.xyz\", \"w\")\n",
    "\n",
    "trj_list = []\n",
    "log_list = []\n",
    "\n",
    "ls = irc_file.readlines()\n",
    "\n",
    "nstep = 1\n",
    "for il, l in enumerate(ls):\n",
    "    l_split = l.split()\n",
    "\n",
    "    if len(l_split) > 2:\n",
    "        if l_split[1] == \"OPTIMIZATION\" and l_split[2] == \"CONVERGED\":\n",
    "            il_val_ene = il + 43\n",
    "\n",
    "            scan_val = float(ls[il_val_ene].split()[3])\n",
    "            scan_ene = float(ls[il_val_ene].split()[5])\n",
    "\n",
    "            xyz_lines = ls[il+5:il+5+natm]\n",
    "            assert len(xyz_lines) == natm\n",
    "        \n",
    "            xyz_file = f\"scan-{nstep}.xyz\"\n",
    "            xyz_str  = \"%3d\\n% 16.8f\\n\"%(natm, scan_ene)\n",
    "            \n",
    "            for xyz_line in xyz_lines:\n",
    "                ele = xyz_line.split()[1]\n",
    "                coord_1 = float(xyz_line.split()[2])\n",
    "                coord_2 = float(xyz_line.split()[3])\n",
    "                coord_3 = float(xyz_line.split()[4])\n",
    "                xyz_str += \"%2s % 12.8f % 12.8f % 12.8f\\n\"%(ele, coord_1, coord_2, coord_3)\n",
    "            \n",
    "            with open(\"../data/xyz/\" + xyz_file, \"w\") as f:\n",
    "                f.write(xyz_str)\n",
    "\n",
    "            log_str = \"% 24s % 16.8f % 16.8f\"%(\"../data/xyz/\" + xyz_file, scan_val, scan_ene)\n",
    "            \n",
    "            trj_list.append(xyz_str)  \n",
    "            log_list.append(log_str)\n",
    "                \n",
    "            nstep += 1\n",
    "\n",
    "for i in range(len(trj_list)):\n",
    "    trj_file.write(trj_list[i]+\"\\n\")\n",
    "    log_file.write(log_list[i]+\"\\n\")\n"
   ]
  }
 ],
 "metadata": {
  "kernelspec": {
   "display_name": "Python 3",
   "language": "python",
   "name": "python3"
  },
  "language_info": {
   "codemirror_mode": {
    "name": "ipython",
    "version": 3
   },
   "file_extension": ".py",
   "mimetype": "text/x-python",
   "name": "python",
   "nbconvert_exporter": "python",
   "pygments_lexer": "ipython3",
   "version": "3.8.8"
  },
  "vscode": {
   "interpreter": {
    "hash": "cd6d3c4e16ae333676ac5ff0bb552f825d1015cadc6d12817bd9921e3f430be2"
   }
  }
 },
 "nbformat": 4,
 "nbformat_minor": 5
}
